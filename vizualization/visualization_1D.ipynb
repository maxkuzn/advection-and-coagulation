{
 "cells": [
  {
   "cell_type": "code",
   "execution_count": 1,
   "id": "dde19b6b-e1b0-4b76-8891-dd2b03bd11f2",
   "metadata": {},
   "outputs": [],
   "source": [
    "import os \n",
    "\n",
    "import numpy as np\n",
    "import matplotlib.pyplot as plt\n",
    "from matplotlib import animation"
   ]
  },
  {
   "cell_type": "code",
   "execution_count": 13,
   "id": "717cd837-087a-46d4-9697-fbc9f6ecce05",
   "metadata": {},
   "outputs": [],
   "source": [
    "DATA_DIR = \"../data\""
   ]
  },
  {
   "cell_type": "code",
   "execution_count": 17,
   "id": "94a56698-c089-42fe-8314-089f6bd2c91b",
   "metadata": {},
   "outputs": [],
   "source": [
    "# Returns history of a field\n",
    "# with shape\n",
    "# (time_steps, field_size, num_of_particle_sizes)\n",
    "def load_history(filename):\n",
    "    path = os.path.join(DATA_DIR, filename)\n",
    "    history = [[]]\n",
    "    first_line = True\n",
    "    idx = 0\n",
    "    with open(path) as f:\n",
    "        for line in f:\n",
    "            if first_line:\n",
    "                first_line = False\n",
    "                field_size = int(line.strip())\n",
    "                continue\n",
    "            history[-1].append(\n",
    "                list(map(float, line.strip().split()))\n",
    "            )\n",
    "            idx += 1\n",
    "            if idx == field_size:\n",
    "                idx = 0\n",
    "                history.append([])\n",
    "    history.pop()\n",
    "\n",
    "    history = np.array(history)\n",
    "    return history"
   ]
  },
  {
   "cell_type": "code",
   "execution_count": 18,
   "id": "95b4bbbc-eb54-4ca6-be5e-1a80e88770e7",
   "metadata": {},
   "outputs": [],
   "source": [
    "history = load_history(\"history.txt\")"
   ]
  },
  {
   "cell_type": "code",
   "execution_count": 19,
   "id": "153ad016-18e5-4930-8df5-29c5bc334000",
   "metadata": {},
   "outputs": [
    {
     "data": {
      "text/plain": [
       "(4, 500, 100)"
      ]
     },
     "execution_count": 19,
     "metadata": {},
     "output_type": "execute_result"
    }
   ],
   "source": [
    "history.shape"
   ]
  },
  {
   "cell_type": "code",
   "execution_count": 22,
   "id": "5834e8f4-59ed-40a3-86f4-59448727eb6c",
   "metadata": {},
   "outputs": [
    {
     "ename": "ValueError",
     "evalue": "too many values to unpack (expected 2)",
     "output_type": "error",
     "traceback": [
      "\u001b[0;31m---------------------------------------------------------------------------\u001b[0m",
      "\u001b[0;31mValueError\u001b[0m                                Traceback (most recent call last)",
      "Input \u001b[0;32mIn [22]\u001b[0m, in \u001b[0;36m<module>\u001b[0;34m\u001b[0m\n\u001b[1;32m      5\u001b[0m x \u001b[38;5;241m=\u001b[39m np\u001b[38;5;241m.\u001b[39marange(z\u001b[38;5;241m.\u001b[39mshape[\u001b[38;5;241m1\u001b[39m])\n\u001b[1;32m      7\u001b[0m fig, ax \u001b[38;5;241m=\u001b[39m plt\u001b[38;5;241m.\u001b[39msubplots()\n\u001b[0;32m----> 9\u001b[0m c \u001b[38;5;241m=\u001b[39m \u001b[43max\u001b[49m\u001b[38;5;241;43m.\u001b[39;49m\u001b[43mpcolormesh\u001b[49m\u001b[43m(\u001b[49m\u001b[43mx\u001b[49m\u001b[43m,\u001b[49m\u001b[43m \u001b[49m\u001b[43mtime\u001b[49m\u001b[43m,\u001b[49m\u001b[43m \u001b[49m\u001b[43mz\u001b[49m\u001b[43m,\u001b[49m\u001b[43m \u001b[49m\u001b[43mcmap\u001b[49m\u001b[38;5;241;43m=\u001b[39;49m\u001b[38;5;124;43m'\u001b[39;49m\u001b[38;5;124;43mRdBu\u001b[39;49m\u001b[38;5;124;43m'\u001b[39;49m\u001b[43m,\u001b[49m\u001b[43m \u001b[49m\u001b[43mvmin\u001b[49m\u001b[38;5;241;43m=\u001b[39;49m\u001b[43mz_min\u001b[49m\u001b[43m \u001b[49m\u001b[38;5;241;43m/\u001b[39;49m\u001b[43m \u001b[49m\u001b[38;5;241;43m10\u001b[39;49m\u001b[43m,\u001b[49m\u001b[43m \u001b[49m\u001b[43mvmax\u001b[49m\u001b[38;5;241;43m=\u001b[39;49m\u001b[43mz_max\u001b[49m\u001b[43m \u001b[49m\u001b[38;5;241;43m/\u001b[39;49m\u001b[43m \u001b[49m\u001b[38;5;241;43m10\u001b[39;49m\u001b[43m)\u001b[49m\n\u001b[1;32m     10\u001b[0m ax\u001b[38;5;241m.\u001b[39mset_title(\u001b[38;5;124m'\u001b[39m\u001b[38;5;124mpcolormesh\u001b[39m\u001b[38;5;124m'\u001b[39m)\n\u001b[1;32m     11\u001b[0m \u001b[38;5;66;03m# set the limits of the plot to the limits of the data\u001b[39;00m\n",
      "File \u001b[0;32m~/miniconda3/envs/project/lib/python3.9/site-packages/matplotlib/__init__.py:1412\u001b[0m, in \u001b[0;36m_preprocess_data.<locals>.inner\u001b[0;34m(ax, data, *args, **kwargs)\u001b[0m\n\u001b[1;32m   1409\u001b[0m \u001b[38;5;129m@functools\u001b[39m\u001b[38;5;241m.\u001b[39mwraps(func)\n\u001b[1;32m   1410\u001b[0m \u001b[38;5;28;01mdef\u001b[39;00m \u001b[38;5;21minner\u001b[39m(ax, \u001b[38;5;241m*\u001b[39margs, data\u001b[38;5;241m=\u001b[39m\u001b[38;5;28;01mNone\u001b[39;00m, \u001b[38;5;241m*\u001b[39m\u001b[38;5;241m*\u001b[39mkwargs):\n\u001b[1;32m   1411\u001b[0m     \u001b[38;5;28;01mif\u001b[39;00m data \u001b[38;5;129;01mis\u001b[39;00m \u001b[38;5;28;01mNone\u001b[39;00m:\n\u001b[0;32m-> 1412\u001b[0m         \u001b[38;5;28;01mreturn\u001b[39;00m \u001b[43mfunc\u001b[49m\u001b[43m(\u001b[49m\u001b[43max\u001b[49m\u001b[43m,\u001b[49m\u001b[43m \u001b[49m\u001b[38;5;241;43m*\u001b[39;49m\u001b[38;5;28;43mmap\u001b[39;49m\u001b[43m(\u001b[49m\u001b[43msanitize_sequence\u001b[49m\u001b[43m,\u001b[49m\u001b[43m \u001b[49m\u001b[43margs\u001b[49m\u001b[43m)\u001b[49m\u001b[43m,\u001b[49m\u001b[43m \u001b[49m\u001b[38;5;241;43m*\u001b[39;49m\u001b[38;5;241;43m*\u001b[39;49m\u001b[43mkwargs\u001b[49m\u001b[43m)\u001b[49m\n\u001b[1;32m   1414\u001b[0m     bound \u001b[38;5;241m=\u001b[39m new_sig\u001b[38;5;241m.\u001b[39mbind(ax, \u001b[38;5;241m*\u001b[39margs, \u001b[38;5;241m*\u001b[39m\u001b[38;5;241m*\u001b[39mkwargs)\n\u001b[1;32m   1415\u001b[0m     auto_label \u001b[38;5;241m=\u001b[39m (bound\u001b[38;5;241m.\u001b[39marguments\u001b[38;5;241m.\u001b[39mget(label_namer)\n\u001b[1;32m   1416\u001b[0m                   \u001b[38;5;129;01mor\u001b[39;00m bound\u001b[38;5;241m.\u001b[39mkwargs\u001b[38;5;241m.\u001b[39mget(label_namer))\n",
      "File \u001b[0;32m~/miniconda3/envs/project/lib/python3.9/site-packages/matplotlib/axes/_axes.py:6016\u001b[0m, in \u001b[0;36mAxes.pcolormesh\u001b[0;34m(self, alpha, norm, cmap, vmin, vmax, shading, antialiased, *args, **kwargs)\u001b[0m\n\u001b[1;32m   6013\u001b[0m shading \u001b[38;5;241m=\u001b[39m shading\u001b[38;5;241m.\u001b[39mlower()\n\u001b[1;32m   6014\u001b[0m kwargs\u001b[38;5;241m.\u001b[39msetdefault(\u001b[38;5;124m'\u001b[39m\u001b[38;5;124medgecolors\u001b[39m\u001b[38;5;124m'\u001b[39m, \u001b[38;5;124m'\u001b[39m\u001b[38;5;124mnone\u001b[39m\u001b[38;5;124m'\u001b[39m)\n\u001b[0;32m-> 6016\u001b[0m X, Y, C, shading \u001b[38;5;241m=\u001b[39m \u001b[38;5;28;43mself\u001b[39;49m\u001b[38;5;241;43m.\u001b[39;49m\u001b[43m_pcolorargs\u001b[49m\u001b[43m(\u001b[49m\u001b[38;5;124;43m'\u001b[39;49m\u001b[38;5;124;43mpcolormesh\u001b[39;49m\u001b[38;5;124;43m'\u001b[39;49m\u001b[43m,\u001b[49m\u001b[43m \u001b[49m\u001b[38;5;241;43m*\u001b[39;49m\u001b[43margs\u001b[49m\u001b[43m,\u001b[49m\n\u001b[1;32m   6017\u001b[0m \u001b[43m                                    \u001b[49m\u001b[43mshading\u001b[49m\u001b[38;5;241;43m=\u001b[39;49m\u001b[43mshading\u001b[49m\u001b[43m,\u001b[49m\u001b[43m \u001b[49m\u001b[43mkwargs\u001b[49m\u001b[38;5;241;43m=\u001b[39;49m\u001b[43mkwargs\u001b[49m\u001b[43m)\u001b[49m\n\u001b[1;32m   6018\u001b[0m coords \u001b[38;5;241m=\u001b[39m np\u001b[38;5;241m.\u001b[39mstack([X, Y], axis\u001b[38;5;241m=\u001b[39m\u001b[38;5;241m-\u001b[39m\u001b[38;5;241m1\u001b[39m)\n\u001b[1;32m   6019\u001b[0m \u001b[38;5;66;03m# convert to one dimensional array\u001b[39;00m\n",
      "File \u001b[0;32m~/miniconda3/envs/project/lib/python3.9/site-packages/matplotlib/axes/_axes.py:5504\u001b[0m, in \u001b[0;36mAxes._pcolorargs\u001b[0;34m(self, funcname, shading, *args, **kwargs)\u001b[0m\n\u001b[1;32m   5502\u001b[0m         \u001b[38;5;28;01mif\u001b[39;00m \u001b[38;5;28misinstance\u001b[39m(Y, np\u001b[38;5;241m.\u001b[39mma\u001b[38;5;241m.\u001b[39mcore\u001b[38;5;241m.\u001b[39mMaskedArray):\n\u001b[1;32m   5503\u001b[0m             Y \u001b[38;5;241m=\u001b[39m Y\u001b[38;5;241m.\u001b[39mdata\n\u001b[0;32m-> 5504\u001b[0m     nrows, ncols \u001b[38;5;241m=\u001b[39m C\u001b[38;5;241m.\u001b[39mshape\n\u001b[1;32m   5505\u001b[0m \u001b[38;5;28;01melse\u001b[39;00m:\n\u001b[1;32m   5506\u001b[0m     \u001b[38;5;28;01mraise\u001b[39;00m \u001b[38;5;167;01mTypeError\u001b[39;00m(\u001b[38;5;124mf\u001b[39m\u001b[38;5;124m'\u001b[39m\u001b[38;5;132;01m{\u001b[39;00mfuncname\u001b[38;5;132;01m}\u001b[39;00m\u001b[38;5;124m() takes 1 or 3 positional arguments \u001b[39m\u001b[38;5;124m'\u001b[39m\n\u001b[1;32m   5507\u001b[0m                     \u001b[38;5;124mf\u001b[39m\u001b[38;5;124m'\u001b[39m\u001b[38;5;124mbut \u001b[39m\u001b[38;5;132;01m{\u001b[39;00m\u001b[38;5;28mlen\u001b[39m(args)\u001b[38;5;132;01m}\u001b[39;00m\u001b[38;5;124m were given\u001b[39m\u001b[38;5;124m'\u001b[39m)\n",
      "\u001b[0;31mValueError\u001b[0m: too many values to unpack (expected 2)"
     ]
    },
    {
     "data": {
      "image/png": "[encoded data removed]",
      "text/plain": [
       "<Figure size 432x288 with 1 Axes>"
      ]
     },
     "metadata": {
      "needs_background": "light"
     },
     "output_type": "display_data"
    }
   ],
   "source": [
    "z = history\n",
    "z_min, z_max = -np.abs(z).max(), np.abs(z).max()\n",
    "\n",
    "time = np.arange(z.shape[0])\n",
    "x = np.arange(z.shape[1])\n",
    "\n",
    "fig, ax = plt.subplots()\n",
    "\n",
    "c = ax.pcolormesh(x, time, z, cmap='RdBu', vmin=z_min / 10, vmax=z_max / 10)\n",
    "ax.set_title('pcolormesh')\n",
    "# set the limits of the plot to the limits of the data\n",
    "ax.axis([x.min(), x.max(), time.min(), time.max()])\n",
    "fig.colorbar(c, ax=ax)\n",
    "\n",
    "plt.show()"
   ]
  },
  {
   "cell_type": "markdown",
   "id": "e1353516-0e8b-4639-93c9-f9e35dd75a4a",
   "metadata": {},
   "source": [
    "## Animation"
   ]
  },
  {
   "cell_type": "code",
   "execution_count": 26,
   "id": "bf74930a-271a-4bf1-a900-31162b394164",
   "metadata": {},
   "outputs": [
    {
     "data": {
      "text/plain": [
       "0.716327"
      ]
     },
     "execution_count": 26,
     "metadata": {},
     "output_type": "execute_result"
    }
   ],
   "source": [
    "z.max()"
   ]
  },
  {
   "cell_type": "code",
   "execution_count": 24,
   "id": "49d7d24a-c7a4-402d-9c03-b38561829294",
   "metadata": {},
   "outputs": [
    {
     "name": "stdout",
     "output_type": "stream",
     "text": [
      "Done!\n"
     ]
    },
    {
     "data": {
      "image/png": "[encoded data removed]",
      "text/plain": [
       "<Figure size 576x576 with 1 Axes>"
      ]
     },
     "metadata": {
      "needs_background": "light"
     },
     "output_type": "display_data"
    }
   ],
   "source": [
    "z = history\n",
    "# z_min = history.min()\n",
    "# z_max = history.max()\n",
    "z_min = 0\n",
    "z_max = 2\n",
    "\n",
    "fps = 60\n",
    "\n",
    "# First set up the figure, the axis, and the plot element we want to animate\n",
    "fig = plt.figure( figsize=(8,8) )\n",
    "\n",
    "im = plt.imshow(z[0].reshape(1, -1), cmap='Blues', interpolation='none', aspect='auto', vmin=z_min, vmax=z_max)\n",
    "\n",
    "def animate_func(i):\n",
    "    im.set_array(z[i].reshape(1, -1))\n",
    "    return [im]\n",
    "\n",
    "anim = animation.FuncAnimation(\n",
    "            fig, \n",
    "            animate_func, \n",
    "            frames = z.shape[0],\n",
    "            interval = 1000 / fps, # in ms\n",
    ")\n",
    "\n",
    "# anim.save('test_anim.mp4', fps=fps, extra_args=['-vcodec', 'libx264'])\n",
    "print('Done!')"
   ]
  },
  {
   "cell_type": "code",
   "execution_count": 25,
   "id": "6711b0a2-3246-4bd9-9ef9-2f3c3a23d0bc",
   "metadata": {},
   "outputs": [
    {
     "data": {
      "text/html": [
       "<video width=\"576\" height=\"576\" controls autoplay loop>\n",
       "  <source type=\"video/mp4\" src=\"data:video/mp4;base64,AAAAIGZ0eXBNNFYgAAACAE00ViBpc29taXNvMmF2YzEAAAAIZnJlZQAAChxtZGF0AAACrwYF//+r\n",
       "3EXpvebZSLeWLNgg2SPu73gyNjQgLSBjb3JlIDE2MyByMzA2MCA1ZGI2YWE2IC0gSC4yNjQvTVBF\n",
       "Ry00IEFWQyBjb2RlYyAtIENvcHlsZWZ0IDIwMDMtMjAyMSAtIGh0dHA6Ly93d3cudmlkZW9sYW4u\n",
       "b3JnL3gyNjQuaHRtbCAtIG9wdGlvbnM6IGNhYmFjPTEgcmVmPTMgZGVibG9jaz0xOjA6MCBhbmFs\n",
       "eXNlPTB4MzoweDExMyBtZT1oZXggc3VibWU9NyBwc3k9MSBwc3lfcmQ9MS4wMDowLjAwIG1peGVk\n",
       "X3JlZj0xIG1lX3JhbmdlPTE2IGNocm9tYV9tZT0xIHRyZWxsaXM9MSA4eDhkY3Q9MSBjcW09MCBk\n",
       "ZWFkem9uZT0yMSwxMSBmYXN0X3Bza2lwPTEgY2hyb21hX3FwX29mZnNldD0tMiB0aHJlYWRzPTE4\n",
       "IGxvb2thaGVhZF90aHJlYWRzPTMgc2xpY2VkX3RocmVhZHM9MCBucj0wIGRlY2ltYXRlPTEgaW50\n",
       "ZXJsYWNlZD0wIGJsdXJheV9jb21wYXQ9MCBjb25zdHJhaW5lZF9pbnRyYT0wIGJmcmFtZXM9MyBi\n",
       "X3B5cmFtaWQ9MiBiX2FkYXB0PTEgYl9iaWFzPTAgZGlyZWN0PTEgd2VpZ2h0Yj0xIG9wZW5fZ29w\n",
       "PTAgd2VpZ2h0cD0yIGtleWludD0yNTAga2V5aW50X21pbj0yNSBzY2VuZWN1dD00MCBpbnRyYV9y\n",
       "ZWZyZXNoPTAgcmNfbG9va2FoZWFkPTQwIHJjPWNyZiBtYnRyZWU9MSBjcmY9MjMuMCBxY29tcD0w\n",
       "LjYwIHFwbWluPTAgcXBtYXg9NjkgcXBzdGVwPTQgaXBfcmF0aW89MS40MCBhcT0xOjEuMDAAgAAA\n",
       "BuBliIQAJ//+9bF8CmrJ84oM6DIu4Zckya62IuJtAMAAAAMAAAMABbTwtRcNhxEwmAAACPgBQhHA\n",
       "7nkDKHAAOA4M9jn4R27U1b/6Rg6641jEWQbPpgz25rRuWH03593CvEKm+D4L7mZl8Z7bFB/ljtEJ\n",
       "2ia2lGKZpoEe8HSKv47enIiNtOiBXJYaZvrV/yz7qY6Q0X3WrMsAxGjY1+511/v8FqTL+q24AAAD\n",
       "AAAYeDrHEk2eyjHCj49sm1ZEo1VmNmp8YsP4GCB2KFN8oCC7CnuOtMmnLIKBz9qRz42tX83gDNzF\n",
       "lmoaF1ydJVhLMPb3BtDetkqJSbPVP8WMx3awYptKRKKz1Lx0K0NwI+bUDYm5fGTnBr+gEyo0w5w+\n",
       "2S67EuldQ4nWMjbrNdI9xsi8pInmV7VXLc8Q8EiuKaBZFmtx//uz/ZSD+apHwM8CzhUBYYhhrFYB\n",
       "BgJEKGuk8wrgoYD4hMKsR+3twukA5q2SJlmJbA8Uxxuqr7Wo4WHP/YXp+xYT4u1UuX10sVZDigCS\n",
       "0lEt4ONFSbkOytWEP+CvwvellUO87F9/A7fPkDjX9fKzJoV9qJf0WKQzj9lEANbbCEW4RgFY5GtJ\n",
       "iODberahv0TIzp13K7nTt9+egURVjZX6FC/2eU3YEPzUFAcgDiUdAt9ir6HfHKEJwxUY7OgXwkEF\n",
       "EiSRM4pbjjc8vrUKFm6YaASgkcv7tMe95Y3eb+OnPclNL2e/UBgTzOKpYtpefX9EteVZNRuI2vbg\n",
       "nKFXJMxqIqIUI8hNIvXheYOzw3F5u0bvdA8bbxwL3/tDoDs8onrQVfl6blnBBMwn8mC4OPS9ujAw\n",
       "kM8BjJXsLhCv8gu7tff/8Uw/CntMc+e3LXOzqcjIqgJg7pYDjBV6UA22/YqUz+i/73BE375wbaZ8\n",
       "1bKmNOKtU4ywGLhcdCCjp1KyP60PjdXTYHJ+Ny1+9mHx6pcgN4WoEjNrDo++EQVcLvWBCySDY+EF\n",
       "cvvZC/OKiMG5LZLuW3sQvyZl6om7NojFS0nENl8LXNKqVJG6+3n87VMKsCOsX+D8wXtV//27X4DS\n",
       "MchziIcEsy/bvPed+5ZRvJwSQfVCxhEOYWkMfHbiEe85c/CoJ23Z3kxOrwBBAGhKtmykpQoNFi40\n",
       "EUJYpXN34SqjkmXT1Uk8y0+xYK6jckKvg1UizBt09T3cfG5MPgAVUDEhdvOxzCJ6SXn2QhN9rxgn\n",
       "Mr7bl+6fnswvfwbsief7nlB2qFOBQQOhRRFhJqwntxLR3GzQpVFtBiRGsD8iBSeZkkFiP3Rm+QIb\n",
       "y1LDYftGnsntNAiV/4+aOu62lmHIiXbgtCG6mYRax+itkrDPBgVZ0MVidvvwTFms5bBOLvVYV9ra\n",
       "VGiw+4oLcxnz7NBr5pZoExSx2//zI4roMSgiN2+vQ+r49e96YpJpKBa3naBfDVYV/KZ+8scyY8CM\n",
       "yx38GKFyNUhFi1vCl9limJF2tMv6GTNbbNUi49RTj2OcifteaUy63h8Zxj0bP18HYG499dfCmGL7\n",
       "H3WzrPcaVvQIGdXv2F9MMzCdouExZSRYb3YhZrkymvdp072fO+9svMwAGK2KuBGlXyWEUfLe/H4Y\n",
       "732kvA+RxqVc95CRzNRvTHcBsIoZFkgjmqD38xN5/foc8nbacB+tp7M8uJxbZIjUtK0s1i1uGJ7C\n",
       "iQkIgN0ZZpRJ8HxGllIFLVO4RdXy58BT6VS42ayQsB8LD0BalHDx4jRDBWimy3RjhhUOg/8eAgKo\n",
       "4xyfLydCXdUPYowkgECfF26LOdt/KDKbZOmRtjo/I/oPgWTjquQUUHfrFlafIoAay2mnpf4B05s1\n",
       "BcEtYDaRuASMrquTRuNdrlhClunM0sPobCI15iYMvGVr1RGpV1R/BMyRrZ6tlB7Rv4VDVzrhGntq\n",
       "BRXbrcwzY+MAEMKQRRdp4+u/zHyvJg9V4TEVi4Aarsv5wKp5CWKcRfrtVGSMxxbHov/0lHHYjKTY\n",
       "Ml2yEzmmJ+g6uYcPRa2v7rZ0KA4b1ekZgVzsrQ+K/FPutLabWSLXK6XlIyBDgHAoS1uMzV3dT9eI\n",
       "XYj9nfduabBvaCmeLvo6EAKL+p2n003OZLHBT/4czn9xu017wv6M9Da30Ze4c0orrEqVXoJcblIN\n",
       "0FatmBhMHrJ+b0ytOCK2yKKdTjsirOpit9rG0xvirws3cGTtyJPkSIVMqO3UOgOJDxGT74r0QrSc\n",
       "Ehcz6ah7ltXyGugNM4L1nCKFml+W/sg0MxqtUne5lU1y2dyOrRYyxPU3O4mh49sd22mGAYq/CvT+\n",
       "nDkZ2xJjMod3B6aFKQ5pdP44Spl2qJND5WI5JAIiff7VU0MhQD/20SL6wAAAAwAAAwACHwAAADpB\n",
       "miNsR//8hAAOHovWupBOzyk23adGyOk9SoaoG/WrGH06eDOeJC6rHieSdafwr2sMX+IqN0tz2B9P\n",
       "AAAAI0GeQXiP/wAAAwAN/7nYXYweZPtgWucuRXlJwM+bgfAoSq8hAAAAFAGeYmpH/wAAAwAN/7nX\n",
       "yUotaAHdAAADWm1vb3YAAABsbXZoZAAAAAAAAAAAAAAAAAAAA+gAAABDAAEAAAEAAAAAAAAAAAAA\n",
       "AAABAAAAAAAAAAAAAAAAAAAAAQAAAAAAAAAAAAAAAAAAQAAAAAAAAAAAAAAAAAAAAAAAAAAAAAAA\n",
       "AAAAAAAAAAIAAAKEdHJhawAAAFx0a2hkAAAAAwAAAAAAAAAAAAAAAQAAAAAAAABDAAAAAAAAAAAA\n",
       "AAAAAAAAAAABAAAAAAAAAAAAAAAAAAAAAQAAAAAAAAAAAAAAAAAAQAAAAAJAAAACQAAAAAAAJGVk\n",
       "dHMAAAAcZWxzdAAAAAAAAAABAAAAQwAAAgAAAQAAAAAB/G1kaWEAAAAgbWRoZAAAAAAAAAAAAAAA\n",
       "AAAAPAAAAAQAVcQAAAAAAC1oZGxyAAAAAAAAAAB2aWRlAAAAAAAAAAAAAAAAVmlkZW9IYW5kbGVy\n",
       "AAAAAadtaW5mAAAAFHZtaGQAAAABAAAAAAAAAAAAAAAkZGluZgAAABxkcmVmAAAAAAAAAAEAAAAM\n",
       "dXJsIAAAAAEAAAFnc3RibAAAALdzdHNkAAAAAAAAAAEAAACnYXZjMQAAAAAAAAABAAAAAAAAAAAA\n",
       "AAAAAAAAAAJAAkAASAAAAEgAAAAAAAAAAQAAAAAAAAAAAAAAAAAAAAAAAAAAAAAAAAAAAAAAAAAA\n",
       "ABj//wAAADVhdmNDAWQAH//hABhnZAAfrNlAkBJoQAAAAwBAAAAeA8YMZYABAAZo6+PLIsD9+PgA\n",
       "AAAAHHV1aWRraEDyXyRPxbo5pRvPAyPzAAAAAAAAABhzdHRzAAAAAAAAAAEAAAAEAAABAAAAABRz\n",
       "dHNzAAAAAAAAAAEAAAABAAAAKGN0dHMAAAAAAAAAAwAAAAEAAAIAAAAAAQAABAAAAAACAAABAAAA\n",
       "ABxzdHNjAAAAAAAAAAEAAAABAAAABAAAAAEAAAAkc3RzegAAAAAAAAAAAAAABAAACZcAAAA+AAAA\n",
       "JwAAABgAAAAUc3RjbwAAAAAAAAABAAAAMAAAAGJ1ZHRhAAAAWm1ldGEAAAAAAAAAIWhkbHIAAAAA\n",
       "AAAAAG1kaXJhcHBsAAAAAAAAAAAAAAAALWlsc3QAAAAlqXRvbwAAAB1kYXRhAAAAAQAAAABMYXZm\n",
       "NTguNzYuMTAw\n",
       "\">\n",
       "  Your browser does not support the video tag.\n",
       "</video>"
      ],
      "text/plain": [
       "<IPython.core.display.HTML object>"
      ]
     },
     "execution_count": 25,
     "metadata": {},
     "output_type": "execute_result"
    }
   ],
   "source": [
    "from IPython.display import HTML\n",
    "\n",
    "HTML(anim.to_html5_video())"
   ]
  },
  {
   "cell_type": "code",
   "execution_count": null,
   "id": "b332722f-11be-4d9a-8733-41f4e339808e",
   "metadata": {},
   "outputs": [],
   "source": []
  }
 ],
 "metadata": {
  "kernelspec": {
   "display_name": "Python 3 (ipykernel)",
   "language": "python",
   "name": "python3"
  },
  "language_info": {
   "codemirror_mode": {
    "name": "ipython",
    "version": 3
   },
   "file_extension": ".py",
   "mimetype": "text/x-python",
   "name": "python",
   "nbconvert_exporter": "python",
   "pygments_lexer": "ipython3",
   "version": "3.9.7"
  }
 },
 "nbformat": 4,
 "nbformat_minor": 5
}
